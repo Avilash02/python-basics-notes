{
  "nbformat": 4,
  "nbformat_minor": 0,
  "metadata": {
    "colab": {
      "provenance": [],
      "authorship_tag": "ABX9TyNELdce2i9CnyzISaIkCsAo",
      "include_colab_link": true
    },
    "kernelspec": {
      "name": "python3",
      "display_name": "Python 3"
    },
    "language_info": {
      "name": "python"
    }
  },
  "cells": [
    {
      "cell_type": "markdown",
      "metadata": {
        "id": "view-in-github",
        "colab_type": "text"
      },
      "source": [
        "<a href=\"https://colab.research.google.com/github/Avilash02/python-basics-notes/blob/main/Python_basics_notes.ipynb\" target=\"_parent\"><img src=\"https://colab.research.google.com/assets/colab-badge.svg\" alt=\"Open In Colab\"/></a>"
      ]
    },
    {
      "cell_type": "markdown",
      "source": [
        "1. **Introduction**"
      ],
      "metadata": {
        "id": "7wuO-ulJaKIs"
      }
    },
    {
      "cell_type": "code",
      "source": [
        "# Python is a high-level, interpreted, general-purpose programming language.\n",
        "# Created by Guido van Rossum and released in 1991.\n",
        "# It emphasizes readability, simplicity, and versatility.\n",
        "\n",
        "print(\"Hello, Python!\")\n"
      ],
      "metadata": {
        "colab": {
          "base_uri": "https://localhost:8080/"
        },
        "id": "SL5rnsD_ieOT",
        "outputId": "da226bde-b394-42fb-93ac-4ac33ab33ce7"
      },
      "execution_count": 5,
      "outputs": [
        {
          "output_type": "stream",
          "name": "stdout",
          "text": [
            "Hello, Python!\n"
          ]
        }
      ]
    },
    {
      "cell_type": "markdown",
      "source": [
        "**2. Variables and Data Types**"
      ],
      "metadata": {
        "id": "reXS2G-LipF8"
      }
    },
    {
      "cell_type": "code",
      "source": [
        "# Variables store data in memory\n",
        "x = 10              # integer\n",
        "y = 3.14            # float\n",
        "name = \"Avilash\"    # string\n",
        "is_learning = True  # boolean\n",
        "\n",
        "print(x, y, name, is_learning)\n"
      ],
      "metadata": {
        "colab": {
          "base_uri": "https://localhost:8080/"
        },
        "id": "NRQCz0vciw-1",
        "outputId": "a2cbb374-e34d-45f2-f85d-ba1c516a2974"
      },
      "execution_count": 6,
      "outputs": [
        {
          "output_type": "stream",
          "name": "stdout",
          "text": [
            "10 3.14 Avilash True\n"
          ]
        }
      ]
    },
    {
      "cell_type": "markdown",
      "source": [
        "**3. Input and Output**"
      ],
      "metadata": {
        "id": "VG2eb4PPi9FX"
      }
    },
    {
      "cell_type": "code",
      "source": [
        "# input() always returns a string\n",
        "# Example: a = int(input(\"Enter a number: \"))\n",
        "print(\"Enter your name:\")\n",
        "your_name = input()\n",
        "print(\"Welcome,\", your_name)\n"
      ],
      "metadata": {
        "colab": {
          "base_uri": "https://localhost:8080/"
        },
        "id": "XIvwn-cvjBHK",
        "outputId": "b9d6d10f-4e7c-40fb-e247-684a41bf316c"
      },
      "execution_count": 7,
      "outputs": [
        {
          "output_type": "stream",
          "name": "stdout",
          "text": [
            "Enter your name:\n",
            "Avilash\n",
            "Welcome, Avilash\n"
          ]
        }
      ]
    },
    {
      "cell_type": "markdown",
      "source": [
        "**4. Operators**"
      ],
      "metadata": {
        "id": "urjHXUQajHqg"
      }
    },
    {
      "cell_type": "code",
      "source": [
        "# Arithmetic operators\n",
        "a, b = 10, 3\n",
        "print(a + b)  # addition\n",
        "print(a - b)  # subtraction\n",
        "print(a * b)  # multiplication\n",
        "print(a / b)  # division (float)\n",
        "print(a // b) # floor division\n",
        "print(a % b)  # modulus\n",
        "print(a ** b) # exponentiation\n"
      ],
      "metadata": {
        "colab": {
          "base_uri": "https://localhost:8080/"
        },
        "id": "zdYM2mPAjKv2",
        "outputId": "aa8eb503-b8e3-48dd-f9e1-ba0bb4051b65"
      },
      "execution_count": 11,
      "outputs": [
        {
          "output_type": "stream",
          "name": "stdout",
          "text": [
            "13\n",
            "7\n",
            "30\n",
            "3.3333333333333335\n",
            "3\n",
            "1\n",
            "1000\n"
          ]
        }
      ]
    },
    {
      "cell_type": "markdown",
      "source": [
        "**5. Conditional Statements**"
      ],
      "metadata": {
        "id": "wKgLuymgjNIU"
      }
    },
    {
      "cell_type": "code",
      "source": [
        "num = 7\n",
        "if num > 0:\n",
        "    print(\"Positive\")\n",
        "elif num == 0:\n",
        "    print(\"Zero\")\n",
        "else:\n",
        "    print(\"Negative\")\n"
      ],
      "metadata": {
        "colab": {
          "base_uri": "https://localhost:8080/"
        },
        "id": "Smzjr8TGjQnA",
        "outputId": "86e88cad-00ca-4b47-b731-b68fc96a5152"
      },
      "execution_count": 12,
      "outputs": [
        {
          "output_type": "stream",
          "name": "stdout",
          "text": [
            "Positive\n"
          ]
        }
      ]
    },
    {
      "cell_type": "markdown",
      "source": [
        "**6. Loops**"
      ],
      "metadata": {
        "id": "EYK0eS4jjVS_"
      }
    },
    {
      "cell_type": "code",
      "source": [
        "# for loop\n",
        "for i in range(5):\n",
        "    print(\"Loop\", i)\n",
        "\n",
        "# while loop\n",
        "count = 0\n",
        "while count < 5:\n",
        "    print(\"Count:\", count)\n",
        "    count += 1\n"
      ],
      "metadata": {
        "colab": {
          "base_uri": "https://localhost:8080/"
        },
        "id": "_xqTUMK-jZN_",
        "outputId": "d628db71-193d-4cec-94aa-61ccf51c4215"
      },
      "execution_count": 13,
      "outputs": [
        {
          "output_type": "stream",
          "name": "stdout",
          "text": [
            "Loop 0\n",
            "Loop 1\n",
            "Loop 2\n",
            "Loop 3\n",
            "Loop 4\n",
            "Count: 0\n",
            "Count: 1\n",
            "Count: 2\n",
            "Count: 3\n",
            "Count: 4\n"
          ]
        }
      ]
    },
    {
      "cell_type": "markdown",
      "source": [
        "**7. Functions**"
      ],
      "metadata": {
        "id": "xBeTRiMKja0C"
      }
    },
    {
      "cell_type": "code",
      "source": [
        "def greet(name):\n",
        "    return f\"Hello, {name}!\"\n",
        "\n",
        "print(greet(\"Avilash\"))\n"
      ],
      "metadata": {
        "colab": {
          "base_uri": "https://localhost:8080/"
        },
        "id": "Y16RvYkzjdha",
        "outputId": "d3e9bfd1-c5eb-4167-aa65-622e8839ff8b"
      },
      "execution_count": 14,
      "outputs": [
        {
          "output_type": "stream",
          "name": "stdout",
          "text": [
            "Hello, Avilash!\n"
          ]
        }
      ]
    },
    {
      "cell_type": "markdown",
      "source": [
        "**8. Lists**"
      ],
      "metadata": {
        "id": "uajGUfOpjmYA"
      }
    },
    {
      "cell_type": "code",
      "source": [
        "fruits = [\"apple\", \"banana\", \"cherry\"]\n",
        "fruits.append(\"orange\")\n",
        "print(fruits)\n",
        "print(fruits[1])\n",
        "for f in fruits:\n",
        "    print(f)\n"
      ],
      "metadata": {
        "colab": {
          "base_uri": "https://localhost:8080/"
        },
        "id": "RTAfHUfdjsiU",
        "outputId": "ac07d4ce-b97d-45ef-d35d-6e22ed8e1e11"
      },
      "execution_count": 15,
      "outputs": [
        {
          "output_type": "stream",
          "name": "stdout",
          "text": [
            "['apple', 'banana', 'cherry', 'orange']\n",
            "banana\n",
            "apple\n",
            "banana\n",
            "cherry\n",
            "orange\n"
          ]
        }
      ]
    },
    {
      "cell_type": "markdown",
      "source": [
        "**9. Tuples**"
      ],
      "metadata": {
        "id": "3Q9zsKLZjuSP"
      }
    },
    {
      "cell_type": "code",
      "source": [
        "t = (1, 2, 3)\n",
        "print(t[0])\n"
      ],
      "metadata": {
        "colab": {
          "base_uri": "https://localhost:8080/"
        },
        "id": "JyVzpVB6jzQU",
        "outputId": "cb921588-5ef9-429e-b66e-3aba9e9e8de3"
      },
      "execution_count": 16,
      "outputs": [
        {
          "output_type": "stream",
          "name": "stdout",
          "text": [
            "1\n"
          ]
        }
      ]
    },
    {
      "cell_type": "markdown",
      "source": [
        "**10. Dictionaries**"
      ],
      "metadata": {
        "id": "TahQZcYFj1Oc"
      }
    },
    {
      "cell_type": "code",
      "source": [
        "student = {\"name\": \"Avilash\", \"age\": 21, \"course\": \"MCA\"}\n",
        "print(student[\"name\"])\n",
        "for key, value in student.items():\n",
        "    print(key, \":\", value)\n"
      ],
      "metadata": {
        "colab": {
          "base_uri": "https://localhost:8080/"
        },
        "id": "KP05GsO4j3gO",
        "outputId": "c986e41a-9cf4-4343-b09f-41d297da9bef"
      },
      "execution_count": 17,
      "outputs": [
        {
          "output_type": "stream",
          "name": "stdout",
          "text": [
            "Avilash\n",
            "name : Avilash\n",
            "age : 21\n",
            "course : MCA\n"
          ]
        }
      ]
    },
    {
      "cell_type": "markdown",
      "source": [
        "**11. Sets**"
      ],
      "metadata": {
        "id": "fc8vRrmUj5NV"
      }
    },
    {
      "cell_type": "code",
      "source": [
        "s = {1, 2, 3, 2}\n",
        "s.add(4)\n",
        "print(s)\n"
      ],
      "metadata": {
        "colab": {
          "base_uri": "https://localhost:8080/"
        },
        "id": "vgTuWYvmj_Bq",
        "outputId": "5e70126e-dde8-43c2-d967-ea9c522d1840"
      },
      "execution_count": 18,
      "outputs": [
        {
          "output_type": "stream",
          "name": "stdout",
          "text": [
            "{1, 2, 3, 4}\n"
          ]
        }
      ]
    },
    {
      "cell_type": "markdown",
      "source": [
        "**12. Strings**"
      ],
      "metadata": {
        "id": "BCoML4aOkB0r"
      }
    },
    {
      "cell_type": "code",
      "source": [
        "text = \"Hello Python\"\n",
        "print(text.lower())\n",
        "print(text.upper())\n",
        "print(text.replace(\"Python\", \"Avilash\"))\n",
        "print(text[0:5])\n"
      ],
      "metadata": {
        "colab": {
          "base_uri": "https://localhost:8080/"
        },
        "id": "ZUHObfWbkD07",
        "outputId": "9bc325fc-9565-401b-84bb-cfeabc8ed701"
      },
      "execution_count": 19,
      "outputs": [
        {
          "output_type": "stream",
          "name": "stdout",
          "text": [
            "hello python\n",
            "HELLO PYTHON\n",
            "Hello Avilash\n",
            "Hello\n"
          ]
        }
      ]
    },
    {
      "cell_type": "markdown",
      "source": [
        "**13. File Handling**"
      ],
      "metadata": {
        "id": "yiqnWIp3kGlh"
      }
    },
    {
      "cell_type": "code",
      "source": [
        "# Writing to a file\n",
        "with open(\"example.txt\", \"w\") as f:\n",
        "    f.write(\"This is Avilash's file.\")\n",
        "\n",
        "# Reading from a file\n",
        "with open(\"example.txt\", \"r\") as f:\n",
        "    print(f.read())\n"
      ],
      "metadata": {
        "colab": {
          "base_uri": "https://localhost:8080/"
        },
        "id": "1_OXywwekJxm",
        "outputId": "963134f9-a11b-47da-f699-fc33ee9aa219"
      },
      "execution_count": 20,
      "outputs": [
        {
          "output_type": "stream",
          "name": "stdout",
          "text": [
            "This is Avilash's file.\n"
          ]
        }
      ]
    },
    {
      "cell_type": "markdown",
      "source": [
        "**14. Exception Handling**"
      ],
      "metadata": {
        "id": "98VVWGURkLeO"
      }
    },
    {
      "cell_type": "code",
      "source": [
        "try:\n",
        "    x = int(input(\"Enter a number: \"))\n",
        "    print(10 / x)\n",
        "except ZeroDivisionError:\n",
        "    print(\"You can't divide by zero!\")\n",
        "except ValueError:\n",
        "    print(\"Invalid input!\")\n",
        "finally:\n",
        "    print(\"Done\")\n"
      ],
      "metadata": {
        "colab": {
          "base_uri": "https://localhost:8080/"
        },
        "id": "TnL0x1YWkOG1",
        "outputId": "151ba848-5b83-463c-e3a7-3e61be72805d"
      },
      "execution_count": 21,
      "outputs": [
        {
          "output_type": "stream",
          "name": "stdout",
          "text": [
            "Enter a number: 25\n",
            "0.4\n",
            "Done\n"
          ]
        }
      ]
    },
    {
      "cell_type": "markdown",
      "source": [
        "**15. Classes and Objects**"
      ],
      "metadata": {
        "id": "ykg6eHC2kRm_"
      }
    },
    {
      "cell_type": "code",
      "source": [
        "class Student:\n",
        "    def __init__(self, name, age):\n",
        "        self.name = name\n",
        "        self.age = age\n",
        "\n",
        "    def show(self):\n",
        "        print(f\"Name: {self.name}, Age: {self.age}\")\n",
        "\n",
        "s1 = Student(\"Avilash\", 21)\n",
        "s1.show()\n"
      ],
      "metadata": {
        "colab": {
          "base_uri": "https://localhost:8080/"
        },
        "id": "vANubIPWkU7n",
        "outputId": "2677e002-d63b-4397-a500-549e84b6a28b"
      },
      "execution_count": 22,
      "outputs": [
        {
          "output_type": "stream",
          "name": "stdout",
          "text": [
            "Name: Avilash, Age: 21\n"
          ]
        }
      ]
    },
    {
      "cell_type": "markdown",
      "source": [
        "**16. Modules and Imports**"
      ],
      "metadata": {
        "id": "hzvchUqDkXGa"
      }
    },
    {
      "cell_type": "code",
      "source": [
        "import math\n",
        "print(math.sqrt(25))\n",
        "print(math.pi)\n"
      ],
      "metadata": {
        "colab": {
          "base_uri": "https://localhost:8080/"
        },
        "id": "2iIebvqDkdW3",
        "outputId": "3de86f4f-31ff-49fa-815c-bee0fc4360da"
      },
      "execution_count": 24,
      "outputs": [
        {
          "output_type": "stream",
          "name": "stdout",
          "text": [
            "5.0\n",
            "3.141592653589793\n"
          ]
        }
      ]
    },
    {
      "cell_type": "markdown",
      "source": [
        "**17. List Comprehension**"
      ],
      "metadata": {
        "id": "zj-J92H7ke8J"
      }
    },
    {
      "cell_type": "code",
      "source": [
        "squares = [x**2 for x in range(5)]\n",
        "print(squares)\n"
      ],
      "metadata": {
        "colab": {
          "base_uri": "https://localhost:8080/"
        },
        "id": "Gr6yJw7Pki0h",
        "outputId": "820b5893-538e-4e24-da3f-65d92993c5e3"
      },
      "execution_count": 23,
      "outputs": [
        {
          "output_type": "stream",
          "name": "stdout",
          "text": [
            "[0, 1, 4, 9, 16]\n"
          ]
        }
      ]
    },
    {
      "cell_type": "markdown",
      "source": [
        "**18. Lambda Functions**"
      ],
      "metadata": {
        "id": "zgB4Nv8bkj-S"
      }
    },
    {
      "cell_type": "code",
      "source": [
        "add = lambda a, b: a + b\n",
        "print(add(5, 3))\n"
      ],
      "metadata": {
        "colab": {
          "base_uri": "https://localhost:8080/"
        },
        "id": "csGDwfHokn0O",
        "outputId": "d17f0374-f345-4231-d6dc-4487763bc965"
      },
      "execution_count": 25,
      "outputs": [
        {
          "output_type": "stream",
          "name": "stdout",
          "text": [
            "8\n"
          ]
        }
      ]
    },
    {
      "cell_type": "markdown",
      "source": [
        "**19.Pandas**"
      ],
      "metadata": {
        "id": "bqMbb1AroGtU"
      }
    },
    {
      "cell_type": "code",
      "source": [
        "import pandas as pd\n",
        "\n",
        "data = {\"Name\": [\"Avilash\", \"Rahul\"], \"Age\": [21, 22]}\n",
        "df = pd.DataFrame(data)\n",
        "print(df)\n",
        "print(df[\"Name\"])"
      ],
      "metadata": {
        "colab": {
          "base_uri": "https://localhost:8080/"
        },
        "id": "cZguDm3CoNbw",
        "outputId": "1945ca3e-664d-4b7d-c5ca-e0bf9a870a7a"
      },
      "execution_count": 26,
      "outputs": [
        {
          "output_type": "stream",
          "name": "stdout",
          "text": [
            "      Name  Age\n",
            "0  Avilash   21\n",
            "1    Rahul   22\n",
            "0    Avilash\n",
            "1      Rahul\n",
            "Name: Name, dtype: object\n"
          ]
        }
      ]
    },
    {
      "cell_type": "markdown",
      "source": [
        "**20. Map, Filter, Reduce**"
      ],
      "metadata": {
        "id": "Ga2DLihgkpaN"
      }
    },
    {
      "cell_type": "code",
      "source": [
        "from functools import reduce\n",
        "nums = [1, 2, 3, 4, 5]\n",
        "print(list(map(lambda x: x*2, nums)))\n",
        "print(list(filter(lambda x: x%2==0, nums)))\n",
        "print(reduce(lambda a,b: a+b, nums))\n"
      ],
      "metadata": {
        "colab": {
          "base_uri": "https://localhost:8080/"
        },
        "id": "-fPPLQh7ksbL",
        "outputId": "a19faf33-9551-494e-e6d3-755b781aea85"
      },
      "execution_count": 27,
      "outputs": [
        {
          "output_type": "stream",
          "name": "stdout",
          "text": [
            "[2, 4, 6, 8, 10]\n",
            "[2, 4]\n",
            "15\n"
          ]
        }
      ]
    },
    {
      "cell_type": "markdown",
      "source": [
        "**21. Basic Libraries Overview**"
      ],
      "metadata": {
        "id": "vrfbXbo2ktWx"
      }
    },
    {
      "cell_type": "code",
      "source": [
        "# Common Libraries\n",
        "# math – mathematical operations\n",
        "# random – random number generation\n",
        "# datetime – working with date/time\n",
        "# os – interacting with the system\n",
        "# sys – system-specific parameters\n",
        "# numpy, pandas – data analysis\n",
        "# matplotlib – data visualization\n"
      ],
      "metadata": {
        "id": "z-e75mZukyDR"
      },
      "execution_count": 28,
      "outputs": []
    },
    {
      "cell_type": "markdown",
      "source": [
        "**22.Decorators**"
      ],
      "metadata": {
        "id": "UnR-e2ovmSx2"
      }
    },
    {
      "cell_type": "code",
      "source": [
        "def decorator(func):\n",
        "    def wrapper():\n",
        "        print(\"Before the function\")\n",
        "        func()\n",
        "        print(\"After the function\")\n",
        "    return wrapper\n",
        "\n",
        "@decorator\n",
        "def say_hello():\n",
        "    print(\"Hello!\")\n",
        "\n",
        "say_hello()"
      ],
      "metadata": {
        "colab": {
          "base_uri": "https://localhost:8080/"
        },
        "id": "ddU6Ue6SnaJh",
        "outputId": "eaeb1670-9147-4d57-f07a-e00fb5c96b5b"
      },
      "execution_count": 29,
      "outputs": [
        {
          "output_type": "stream",
          "name": "stdout",
          "text": [
            "Before the function\n",
            "Hello!\n",
            "After the function\n"
          ]
        }
      ]
    },
    {
      "cell_type": "markdown",
      "source": [
        "**23.Iterators and Generators**"
      ],
      "metadata": {
        "id": "A6u4wwKhnft5"
      }
    },
    {
      "cell_type": "code",
      "source": [
        "nums = [1, 2, 3]\n",
        "it = iter(nums)\n",
        "print(next(it))\n",
        "print(next(it))\n",
        "\n",
        "def gen_numbers():\n",
        "    for i in range(3):\n",
        "        yield i\n",
        "\n",
        "for num in gen_numbers():\n",
        "    print(num)"
      ],
      "metadata": {
        "colab": {
          "base_uri": "https://localhost:8080/"
        },
        "id": "U8Lm-9UPnrnN",
        "outputId": "91efc991-5f05-4d50-90ee-2602ea1e6d05"
      },
      "execution_count": 30,
      "outputs": [
        {
          "output_type": "stream",
          "name": "stdout",
          "text": [
            "1\n",
            "2\n",
            "0\n",
            "1\n",
            "2\n"
          ]
        }
      ]
    },
    {
      "cell_type": "markdown",
      "source": [
        "**24.Regular Expressions**"
      ],
      "metadata": {
        "id": "Spg-2u1pn3ya"
      }
    },
    {
      "cell_type": "code",
      "source": [
        "import re\n",
        "text = \"My phone number is 9876543210\"\n",
        "pattern = r\"\\d{10}\"\n",
        "match = re.search(pattern, text)\n",
        "if match:\n",
        "    print(\"Found:\", match.group())"
      ],
      "metadata": {
        "colab": {
          "base_uri": "https://localhost:8080/"
        },
        "id": "OhNilmAXn6NL",
        "outputId": "bda7be86-1471-4fa9-edb8-45d1167f2a02"
      },
      "execution_count": 31,
      "outputs": [
        {
          "output_type": "stream",
          "name": "stdout",
          "text": [
            "Found: 9876543210\n"
          ]
        }
      ]
    },
    {
      "cell_type": "markdown",
      "source": [],
      "metadata": {
        "id": "1UVwhothn8aU"
      }
    }
  ]
}