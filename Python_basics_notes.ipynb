{
  "nbformat": 4,
  "nbformat_minor": 0,
  "metadata": {
    "colab": {
      "provenance": [],
      "authorship_tag": "ABX9TyNELdce2i9CnyzISaIkCsAo",
      "include_colab_link": true
    },
    "kernelspec": {
      "name": "python3",
      "display_name": "Python 3"
    },
    "language_info": {
      "name": "python"
    }
  },
  "cells": [
    {
      "cell_type": "markdown",
      "metadata": {
        "id": "view-in-github",
        "colab_type": "text"
      },
      "source": [
        "<a href=\"https://colab.research.google.com/github/Avilash02/python-basics-notes/blob/main/Python_basics_notes.ipynb\" target=\"_parent\"><img src=\"https://colab.research.google.com/assets/colab-badge.svg\" alt=\"Open In Colab\"/></a>"
      ]
    },
    {
      "cell_type": "markdown",
      "source": [
        "1. **Introduction**"
      ],
      "metadata": {
        "id": "7wuO-ulJaKIs"
      }
    },
    {
      "cell_type": "code",
      "source": [
        "# Python is a high-level, interpreted, general-purpose programming language.\n",
        "# Created by Guido van Rossum and released in 1991.\n",
        "# It emphasizes readability, simplicity, and versatility.\n",
        "\n",
        "print(\"Hello, Python!\")\n"
      ],
      "metadata": {
        "colab": {
          "base_uri": "https://localhost:8080/"
        },
        "id": "SL5rnsD_ieOT",
        "outputId": "da226bde-b394-42fb-93ac-4ac33ab33ce7"
      },
      "execution_count": 5,
      "outputs": [
        {
          "output_type": "stream",
          "name": "stdout",
          "text": [
            "Hello, Python!\n"
          ]
        }
      ]
    },
    {
      "cell_type": "markdown",
      "source": [
        "**2. Variables and Data Types**"
      ],
      "metadata": {
        "id": "reXS2G-LipF8"
      }
    },
    {
      "cell_type": "code",
      "source": [
        "# Variables store data in memory\n",
        "x = 10              # integer\n",
        "y = 3.14            # float\n",
        "name = \"Avilash\"    # string\n",
        "is_learning = True  # boolean\n",
        "\n",
        "print(x, y, name, is_learning)\n"
      ],
      "metadata": {
        "colab": {
          "base_uri": "https://localhost:8080/"
        },
        "id": "NRQCz0vciw-1",
        "outputId": "a2cbb374-e34d-45f2-f85d-ba1c516a2974"
      },
      "execution_count": 6,
      "outputs": [
        {
          "output_type": "stream",
          "name": "stdout",
          "text": [
            "10 3.14 Avilash True\n"
          ]
        }
      ]
    },
    {
      "cell_type": "markdown",
      "source": [
        "**3. Input and Output**"
      ],
      "metadata": {
        "id": "VG2eb4PPi9FX"
      }
    },
    {
      "cell_type": "code",
      "source": [
        "# input() always returns a string\n",
        "# Example: a = int(input(\"Enter a number: \"))\n",
        "print(\"Enter your name:\")\n",
        "your_name = input()\n",
        "print(\"Welcome,\", your_name)\n"
      ],
      "metadata": {
        "colab": {
          "base_uri": "https://localhost:8080/"
        },
        "id": "XIvwn-cvjBHK",
        "outputId": "b9d6d10f-4e7c-40fb-e247-684a41bf316c"
      },
      "execution_count": 7,
      "outputs": [
        {
          "output_type": "stream",
          "name": "stdout",
          "text": [
            "Enter your name:\n",
            "Avilash\n",
            "Welcome, Avilash\n"
          ]
        }
      ]
    },
    {
      "cell_type": "markdown",
      "source": [
        "**4. Operators**"
      ],
      "metadata": {
        "id": "urjHXUQajHqg"
      }
    },
    {
      "cell_type": "code",
      "source": [
        "# Arithmetic operators\n",
        "a, b = 10, 3\n",
        "print(a + b)  # addition\n",
        "print(a - b)  # subtraction\n",
        "print(a * b)  # multiplication\n",
        "print(a / b)  # division (float)\n",
        "print(a // b) # floor division\n",
        "print(a % b)  # modulus\n",
        "print(a ** b) # exponentiation\n"
      ],
      "metadata": {
        "id": "zdYM2mPAjKv2"
      },
      "execution_count": null,
      "outputs": []
    },
    {
      "cell_type": "markdown",
      "source": [
        "**5. Conditional Statements**"
      ],
      "metadata": {
        "id": "wKgLuymgjNIU"
      }
    },
    {
      "cell_type": "code",
      "source": [
        "num = 7\n",
        "if num > 0:\n",
        "    print(\"Positive\")\n",
        "elif num == 0:\n",
        "    print(\"Zero\")\n",
        "else:\n",
        "    print(\"Negative\")\n"
      ],
      "metadata": {
        "id": "Smzjr8TGjQnA"
      },
      "execution_count": null,
      "outputs": []
    },
    {
      "cell_type": "markdown",
      "source": [
        "**6. Loops**"
      ],
      "metadata": {
        "id": "EYK0eS4jjVS_"
      }
    },
    {
      "cell_type": "code",
      "source": [
        "# for loop\n",
        "for i in range(5):\n",
        "    print(\"Loop\", i)\n",
        "\n",
        "# while loop\n",
        "count = 0\n",
        "while count < 5:\n",
        "    print(\"Count:\", count)\n",
        "    count += 1\n"
      ],
      "metadata": {
        "id": "_xqTUMK-jZN_"
      },
      "execution_count": null,
      "outputs": []
    },
    {
      "cell_type": "markdown",
      "source": [
        "**7. Functions**"
      ],
      "metadata": {
        "id": "xBeTRiMKja0C"
      }
    },
    {
      "cell_type": "code",
      "source": [
        "def greet(name):\n",
        "    return f\"Hello, {name}!\"\n",
        "\n",
        "print(greet(\"Avilash\"))\n"
      ],
      "metadata": {
        "id": "Y16RvYkzjdha"
      },
      "execution_count": null,
      "outputs": []
    },
    {
      "cell_type": "markdown",
      "source": [
        "**8. Lists**"
      ],
      "metadata": {
        "id": "uajGUfOpjmYA"
      }
    },
    {
      "cell_type": "code",
      "source": [
        "fruits = [\"apple\", \"banana\", \"cherry\"]\n",
        "fruits.append(\"orange\")\n",
        "print(fruits)\n",
        "print(fruits[1])\n",
        "for f in fruits:\n",
        "    print(f)\n"
      ],
      "metadata": {
        "id": "RTAfHUfdjsiU"
      },
      "execution_count": null,
      "outputs": []
    },
    {
      "cell_type": "markdown",
      "source": [
        "**9. Tuples**"
      ],
      "metadata": {
        "id": "3Q9zsKLZjuSP"
      }
    },
    {
      "cell_type": "code",
      "source": [
        "t = (1, 2, 3)\n",
        "print(t[0])\n"
      ],
      "metadata": {
        "id": "JyVzpVB6jzQU"
      },
      "execution_count": null,
      "outputs": []
    },
    {
      "cell_type": "markdown",
      "source": [
        "**10. Dictionaries**"
      ],
      "metadata": {
        "id": "TahQZcYFj1Oc"
      }
    },
    {
      "cell_type": "code",
      "source": [
        "student = {\"name\": \"Avilash\", \"age\": 21, \"course\": \"MCA\"}\n",
        "print(student[\"name\"])\n",
        "for key, value in student.items():\n",
        "    print(key, \":\", value)\n"
      ],
      "metadata": {
        "id": "KP05GsO4j3gO"
      },
      "execution_count": null,
      "outputs": []
    },
    {
      "cell_type": "markdown",
      "source": [
        "**11. Sets**"
      ],
      "metadata": {
        "id": "fc8vRrmUj5NV"
      }
    },
    {
      "cell_type": "code",
      "source": [
        "s = {1, 2, 3, 2}\n",
        "s.add(4)\n",
        "print(s)\n"
      ],
      "metadata": {
        "id": "vgTuWYvmj_Bq"
      },
      "execution_count": null,
      "outputs": []
    },
    {
      "cell_type": "markdown",
      "source": [
        "**12. Strings**"
      ],
      "metadata": {
        "id": "BCoML4aOkB0r"
      }
    },
    {
      "cell_type": "code",
      "source": [
        "text = \"Hello Python\"\n",
        "print(text.lower())\n",
        "print(text.upper())\n",
        "print(text.replace(\"Python\", \"Avilash\"))\n",
        "print(text[0:5])\n"
      ],
      "metadata": {
        "id": "ZUHObfWbkD07"
      },
      "execution_count": null,
      "outputs": []
    },
    {
      "cell_type": "markdown",
      "source": [
        "**13. File Handling**"
      ],
      "metadata": {
        "id": "yiqnWIp3kGlh"
      }
    },
    {
      "cell_type": "code",
      "source": [
        "# Writing to a file\n",
        "with open(\"example.txt\", \"w\") as f:\n",
        "    f.write(\"This is Avilash's file.\")\n",
        "\n",
        "# Reading from a file\n",
        "with open(\"example.txt\", \"r\") as f:\n",
        "    print(f.read())\n"
      ],
      "metadata": {
        "id": "1_OXywwekJxm"
      },
      "execution_count": null,
      "outputs": []
    },
    {
      "cell_type": "markdown",
      "source": [
        "**14. Exception Handling**"
      ],
      "metadata": {
        "id": "98VVWGURkLeO"
      }
    },
    {
      "cell_type": "code",
      "source": [
        "try:\n",
        "    x = int(input(\"Enter a number: \"))\n",
        "    print(10 / x)\n",
        "except ZeroDivisionError:\n",
        "    print(\"You can't divide by zero!\")\n",
        "except ValueError:\n",
        "    print(\"Invalid input!\")\n",
        "finally:\n",
        "    print(\"Done\")\n"
      ],
      "metadata": {
        "id": "TnL0x1YWkOG1"
      },
      "execution_count": null,
      "outputs": []
    },
    {
      "cell_type": "markdown",
      "source": [
        "**15. Classes and Objects**"
      ],
      "metadata": {
        "id": "ykg6eHC2kRm_"
      }
    },
    {
      "cell_type": "code",
      "source": [
        "class Student:\n",
        "    def __init__(self, name, age):\n",
        "        self.name = name\n",
        "        self.age = age\n",
        "\n",
        "    def show(self):\n",
        "        print(f\"Name: {self.name}, Age: {self.age}\")\n",
        "\n",
        "s1 = Student(\"Avilash\", 21)\n",
        "s1.show()\n"
      ],
      "metadata": {
        "id": "vANubIPWkU7n"
      },
      "execution_count": null,
      "outputs": []
    },
    {
      "cell_type": "markdown",
      "source": [
        "**16. Modules and Imports**"
      ],
      "metadata": {
        "id": "hzvchUqDkXGa"
      }
    },
    {
      "cell_type": "code",
      "source": [
        "import math\n",
        "print(math.sqrt(25))\n",
        "print(math.pi)\n"
      ],
      "metadata": {
        "id": "2iIebvqDkdW3"
      },
      "execution_count": null,
      "outputs": []
    },
    {
      "cell_type": "markdown",
      "source": [
        "**17. List Comprehension**"
      ],
      "metadata": {
        "id": "zj-J92H7ke8J"
      }
    },
    {
      "cell_type": "code",
      "source": [
        "squares = [x**2 for x in range(5)]\n",
        "print(squares)\n"
      ],
      "metadata": {
        "id": "Gr6yJw7Pki0h"
      },
      "execution_count": null,
      "outputs": []
    },
    {
      "cell_type": "markdown",
      "source": [
        "**18. Lambda Functions**"
      ],
      "metadata": {
        "id": "zgB4Nv8bkj-S"
      }
    },
    {
      "cell_type": "code",
      "source": [
        "add = lambda a, b: a + b\n",
        "print(add(5, 3))\n"
      ],
      "metadata": {
        "id": "csGDwfHokn0O"
      },
      "execution_count": null,
      "outputs": []
    },
    {
      "cell_type": "markdown",
      "source": [
        "**19.Pandas**"
      ],
      "metadata": {
        "id": "bqMbb1AroGtU"
      }
    },
    {
      "cell_type": "code",
      "source": [
        "import pandas as pd\n",
        "\n",
        "data = {\"Name\": [\"Avilash\", \"Rahul\"], \"Age\": [21, 22]}\n",
        "df = pd.DataFrame(data)\n",
        "print(df)\n",
        "print(df[\"Name\"])"
      ],
      "metadata": {
        "colab": {
          "base_uri": "https://localhost:8080/"
        },
        "id": "cZguDm3CoNbw",
        "outputId": "40777b93-6fa1-4fda-ffd2-e729634fe8f0"
      },
      "execution_count": 9,
      "outputs": [
        {
          "output_type": "stream",
          "name": "stdout",
          "text": [
            "      Name  Age\n",
            "0  Avilash   21\n",
            "1    Rahul   22\n",
            "0    Avilash\n",
            "1      Rahul\n",
            "Name: Name, dtype: object\n"
          ]
        }
      ]
    },
    {
      "cell_type": "markdown",
      "source": [
        "**20. Map, Filter, Reduce**"
      ],
      "metadata": {
        "id": "Ga2DLihgkpaN"
      }
    },
    {
      "cell_type": "code",
      "source": [
        "from functools import reduce\n",
        "nums = [1, 2, 3, 4, 5]\n",
        "print(list(map(lambda x: x*2, nums)))\n",
        "print(list(filter(lambda x: x%2==0, nums)))\n",
        "print(reduce(lambda a,b: a+b, nums))\n"
      ],
      "metadata": {
        "id": "-fPPLQh7ksbL"
      },
      "execution_count": null,
      "outputs": []
    },
    {
      "cell_type": "markdown",
      "source": [
        "**21. Basic Libraries Overview**"
      ],
      "metadata": {
        "id": "vrfbXbo2ktWx"
      }
    },
    {
      "cell_type": "code",
      "source": [
        "# Common Libraries\n",
        "# math – mathematical operations\n",
        "# random – random number generation\n",
        "# datetime – working with date/time\n",
        "# os – interacting with the system\n",
        "# sys – system-specific parameters\n",
        "# numpy, pandas – data analysis\n",
        "# matplotlib – data visualization\n"
      ],
      "metadata": {
        "id": "z-e75mZukyDR"
      },
      "execution_count": null,
      "outputs": []
    },
    {
      "cell_type": "markdown",
      "source": [
        "**22.Decorators**"
      ],
      "metadata": {
        "id": "UnR-e2ovmSx2"
      }
    },
    {
      "cell_type": "code",
      "source": [
        "def decorator(func):\n",
        "    def wrapper():\n",
        "        print(\"Before the function\")\n",
        "        func()\n",
        "        print(\"After the function\")\n",
        "    return wrapper\n",
        "\n",
        "@decorator\n",
        "def say_hello():\n",
        "    print(\"Hello!\")\n",
        "\n",
        "say_hello()"
      ],
      "metadata": {
        "colab": {
          "base_uri": "https://localhost:8080/"
        },
        "id": "ddU6Ue6SnaJh",
        "outputId": "48ce34b4-bf30-4d27-ec58-790252d2428b"
      },
      "execution_count": 10,
      "outputs": [
        {
          "output_type": "stream",
          "name": "stdout",
          "text": [
            "Before the function\n",
            "Hello!\n",
            "After the function\n"
          ]
        }
      ]
    },
    {
      "cell_type": "markdown",
      "source": [
        "**23.Iterators and Generators**"
      ],
      "metadata": {
        "id": "A6u4wwKhnft5"
      }
    },
    {
      "cell_type": "code",
      "source": [
        "nums = [1, 2, 3]\n",
        "it = iter(nums)\n",
        "print(next(it))\n",
        "print(next(it))\n",
        "\n",
        "def gen_numbers():\n",
        "    for i in range(3):\n",
        "        yield i\n",
        "\n",
        "for num in gen_numbers():\n",
        "    print(num)"
      ],
      "metadata": {
        "id": "U8Lm-9UPnrnN"
      },
      "execution_count": null,
      "outputs": []
    },
    {
      "cell_type": "markdown",
      "source": [
        "**24.Regular Expressions**"
      ],
      "metadata": {
        "id": "Spg-2u1pn3ya"
      }
    },
    {
      "cell_type": "code",
      "source": [
        "import re\n",
        "text = \"My phone number is 9876543210\"\n",
        "pattern = r\"\\d{10}\"\n",
        "match = re.search(pattern, text)\n",
        "if match:\n",
        "    print(\"Found:\", match.group())"
      ],
      "metadata": {
        "id": "OhNilmAXn6NL"
      },
      "execution_count": null,
      "outputs": []
    },
    {
      "cell_type": "markdown",
      "source": [],
      "metadata": {
        "id": "1UVwhothn8aU"
      }
    }
  ]
}